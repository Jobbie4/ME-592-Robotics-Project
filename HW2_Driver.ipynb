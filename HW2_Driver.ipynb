{
  "cells": [
    {
      "cell_type": "markdown",
      "metadata": {
        "id": "AdnrmJ9de9QI"
      },
      "source": [
        "P1\n",
        "Load all images and overlay Rectangles onto separate images\n",
        "  Sub Part: Use Positive grasp rectangle coordinates to generate masks for P3\n",
        "\n",
        "P2\n",
        "Map all images using point cloud data (Drop in Chris's P2 Code and loop for all images)\n",
        "\n",
        "P3\n",
        "Perform a bunch of channel conversion magic (Chris's Code)\n",
        "Do Bitwise extraction using stored masks\n",
        "Plot extracted images\n",
        "\n",
        "P4\n",
        "Run extracted images through PCA whitening (Eric's Code)\n",
        "  May require that we trim the blackspace left from the mask since its pulling averages from each row image pixels.\n",
        "\n",
        "P5\n",
        "Visualize Point Cloud Data\n",
        "  Plot both Raw point cloud data, and data resulting from PCA Analysis per Timi's email  \n"
      ]
    },
    {
      "cell_type": "markdown",
      "metadata": {
        "id": "bObGlV7ov5XX"
      },
      "source": [
        "P1 Load all images and overlay Rectangles onto separate images\n",
        "\n",
        "  Sub Part: Use Positive grasp rectangle coordinates to generate masks for P3"
      ]
    },
    {
      "cell_type": "code",
      "execution_count": 49,
      "metadata": {
        "id": "lm2_POHoe6Xb"
      },
      "outputs": [],
      "source": [
        "#Loads/Imports\n",
        "import matplotlib.pyplot as plt\n",
        "import matplotlib.image as mpimg\n",
        "import argparse\n",
        "import glob\n",
        "import os\n",
        "import numpy as np\n",
        "import pandas as pd\n",
        "from sklearn import decomposition\n",
        "from sklearn.decomposition import PCA, IncrementalPCA\n",
        "import torch\n",
        "import cv2\n",
        "from PIL import Image\n",
        "from IPython.display import display\n",
        "from imageio import imsave\n",
        "\n",
        "#from image import DepthImage\n",
        "\n",
        "import tifffile\n",
        "\n"
      ]
    },
    {
      "cell_type": "code",
      "execution_count": 10,
      "metadata": {
        "colab": {
          "base_uri": "https://localhost:8080/"
        },
        "id": "yLachoxQgkkF",
        "outputId": "f841eb7b-d71e-4e9b-dc25-77b9ce86b413"
      },
      "outputs": [
        {
          "output_type": "stream",
          "name": "stdout",
          "text": [
            "Loaded 99 images\n"
          ]
        }
      ],
      "source": [
        "#P1\n",
        "# WIP\n",
        "# Loading Images and Data\n",
        "# Loop through all image files in the folder, all pngs, tiffs, and masks are all indexed to align\n",
        "\n",
        "folder_path = \"./HW2/data/02/\"\n",
        "files= os.listdir(folder_path) #OS is an operating system object, listdir is a file objkect\n",
        "files=sorted(files) #sorts in alphabetical order\n",
        "images=[] #Declare images as an empty object\n",
        "images_pos=[]\n",
        "images_neg=[]\n",
        "neg_rect=[]\n",
        "pos_rect=[]\n",
        "masks=[]\n",
        "RGBDtiff=[]\n",
        "j=0\n",
        "\n",
        "\n",
        "for filename in files:\n",
        "    filename = folder_path + str(filename).strip()\n",
        "    #print(filename)\n",
        "\n",
        "    if filename.endswith((\".txt\")):  #look for png files\n",
        "        if (\"cneg\") in filename:\n",
        "         #print(\"cneg\")\n",
        "            if os.path.getsize(filename) == 0:\n",
        "                 print(f\"File '{filename}' is empty.\")\n",
        "            else:\n",
        "                neg_rect= pd.read_csv(filename, delimiter=r'\\s+', header=None, engine='python')\n",
        "                neg_rect = neg_rect.to_numpy()\n",
        "        elif (\"cpos\") in filename:\n",
        "          #print(\"cpos\")\n",
        "            if os.path.getsize(filename) == 0:\n",
        "                 print(f\"File '{filename}' is empty.\")\n",
        "            else:\n",
        "                pos_rect= pd.read_csv(filename,delimiter=r'\\s+', header=None, engine='python')\n",
        "                pos_rect = pos_rect.to_numpy()\n",
        "\n",
        "        else:\n",
        "          #print(\"point cloud\")\n",
        "          continue\n",
        "\n",
        "\n",
        "    elif filename.endswith((\".png\")):  #look for png files\n",
        "        #print(\"png\")\n",
        "        img = mpimg.imread(filename)  # Read the image\n",
        "\n",
        "        images.append(img)\n",
        "        img_pos = mpimg.imread(filename)  # Read the image for positive rectangle overlay\n",
        "        images_pos.append(img_pos)\n",
        "        img_neg= mpimg.imread(filename)  # Read the image for negative rectangle overlay\n",
        "        images_neg.append(img_neg)\n",
        "        mask = np.zeros(images_pos[j].shape[:2], dtype=np.uint8) #Initialize Mask\n",
        "        for i in range(0,len(pos_rect),4):\n",
        "          #Plot Rectangles on Images\n",
        "          rectangle_pts = np.array([[pos_rect[i,0],pos_rect[i,1]], [pos_rect[i+1,0],pos_rect[i+1,1]], [pos_rect[i+2,0],pos_rect[i+2,1]], [pos_rect[i+3,0],pos_rect[i+3,1]]], np.int32)\n",
        "          rectangle_pts = rectangle_pts.reshape((-1, 1, 2))\n",
        "          cv2.polylines(images_pos[j], [rectangle_pts], isClosed=True, color=(255, 0, 0), thickness=1)\n",
        "          #Save Positive Rectangle Masks for use in P3\n",
        "          polygon = rectangle_pts\n",
        "          cv2.fillPoly(mask, [polygon], 255)\n",
        "        masks.append(mask)\n",
        "        for i in range(0,len(neg_rect),4):\n",
        "          #Plot Rectangles on Images\n",
        "          rectangle_pts = np.array([[neg_rect[i,0],neg_rect[i,1]], [neg_rect[i+1,0],neg_rect[i+1,1]], [neg_rect[i+2,0],neg_rect[i+2,1]], [neg_rect[i+3,0],neg_rect[i+3,1]]], np.int32)\n",
        "          rectangle_pts = rectangle_pts.reshape((-1, 1, 2))\n",
        "          cv2.polylines(images_neg[j], [rectangle_pts], isClosed=True, color=(255, 0, 0), thickness=1)\n",
        "        j=j+1\n",
        "        #print(j)\n",
        "        continue\n",
        "\n",
        "    elif filename.endswith((\"_RGBD.tiff\")):  #look for tiff files, Chris's Code here for loading tiff files\n",
        "        #print(\"\")\n",
        "        #img_path = os.path.join(folder_path, filename)\n",
        "        #print(\"tiff\")\n",
        "        tiffin = cv2.imread(filename, cv2.IMREAD_UNCHANGED)\n",
        "        RGBDtiff.append(tiffin)\n",
        "        continue\n",
        "\n",
        "print(\"Loaded\", len(images), \"images\")\n",
        "\n",
        "\n"
      ]
    },
    {
      "cell_type": "code",
      "execution_count": 7,
      "metadata": {
        "colab": {
          "base_uri": "https://localhost:8080/"
        },
        "id": "RKduVek28k6V",
        "outputId": "bf065829-9ecd-4382-a21f-a88bd6d75aa6"
      },
      "outputs": [
        {
          "output_type": "stream",
          "name": "stdout",
          "text": [
            "99\n",
            "99\n"
          ]
        }
      ],
      "source": [
        "print(len(depth))\n",
        "print(len(masks))"
      ]
    },
    {
      "cell_type": "code",
      "execution_count": null,
      "metadata": {
        "id": "lGDgBdzLsRdF"
      },
      "outputs": [],
      "source": [
        "#P1 Inspect Dataset (when changing indices ensure they all match)\n",
        "plt.figure(figsize=(12, 6))\n",
        "plt.subplot(1, 2, 1)\n",
        "plt.imshow(images[0])\n",
        "plt.show()\n",
        "plt.figure(figsize=(12, 6))\n",
        "plt.imshow(images_pos[0])\n",
        "plt.show()\n",
        "plt.figure(figsize=(12, 6))\n",
        "plt.imshow(images_neg[0])\n",
        "plt.show()\n",
        "plt.figure(figsize=(12, 6))\n",
        "plt.imshow(masks[0])\n",
        "plt.show()\n",
        "plt.figure(figsize=(12, 6))\n",
        "#Trim Image using Mask\n",
        "extracted = cv2.bitwise_and(images[0], images[0], mask=masks[0])\n",
        "plt.imshow(extracted)\n",
        "plt.show()\n",
        "plt.figure(figsize=(12, 6))\n",
        "plt.imshow(RGBDtiff[0])\n"
      ]
    },
    {
      "cell_type": "markdown",
      "metadata": {
        "id": "CXOC3aymvzwv"
      },
      "source": [
        "P2 Map all images using point cloud data (Drop in Chris's P2 Code and loop for all images)"
      ]
    },
    {
      "cell_type": "code",
      "execution_count": null,
      "metadata": {
        "id": "V085qmCPvyeY"
      },
      "outputs": [],
      "source": [
        "#P2\n",
        "\n"
      ]
    },
    {
      "cell_type": "markdown",
      "metadata": {
        "id": "qNDIp6QNwfNT"
      },
      "source": [
        "## From image.py it calls the DepthImage class and creates RGB and Depth Images\n",
        "\n",
        "Note: The class \"DepthImage\" was modified so that it created RGB and Depth images.\n",
        "Original Code Source: https://github.com/skumra/robotic-grasping/blob/master/utils/dataset_processing/image.py"
      ]
    },
    {
      "cell_type": "code",
      "execution_count": null,
      "metadata": {
        "id": "0cyFl9duwj0a"
      },
      "outputs": [],
      "source": [
        "#P2  No need to call this again since the new RGB and Depth files have been created\n",
        "\"\"\"\n",
        "path = './data/01/'\n",
        "pcds = glob.glob(os.path.join(path, 'pcd[0-9][0-9][0-9][0-9].txt'))  # Matches 'pcdXXXX.txt'\n",
        "pcds.sort()\n",
        "\n",
        "for pcd in pcds:\n",
        "    di, rgb_img = DepthImage.from_pcd(pcd, (480, 640))\n",
        "\n",
        "    # Save depth image\n",
        "    depth_of_name = pcd.replace('.txt', '_depth.tiff')\n",
        "    imwrite(depth_of_name, di.img.astype(np.float32))\n",
        "\n",
        "    # Save RGB image\n",
        "    rgb_of_name = pcd.replace('.txt', '_rgb.png')\n",
        "    imwrite(rgb_of_name, rgb_img)\n",
        "    \"\"\""
      ]
    },
    {
      "cell_type": "markdown",
      "metadata": {
        "id": "Ue51QMLiwEzI"
      },
      "source": [
        "P3\n",
        "Perform a bunch of channel conversion magic (Chris's Code)\n",
        "Do Bitwise extraction using stored masks\n",
        "Plot extracted images"
      ]
    },
    {
      "cell_type": "code",
      "execution_count": null,
      "metadata": {
        "id": "kOPvAzpZwEdM",
        "collapsed": true
      },
      "outputs": [],
      "source": [
        "#P3/ P4\n",
        "\n",
        "#####################YUV Conversion\n",
        "\n",
        "\n",
        "##############Grasp Rectangle Extraction using Masks\n",
        "extracts=[]\n",
        "cropped_images = []\n",
        "image_recon = []\n",
        "# Load the saved 4-channel RGB-D image\n",
        "#Reference tiff array for this\n",
        "i=0\n",
        "for items in RGBDtiff:\n",
        "  rgbd_new = RGBDtiff[i]\n",
        "\n",
        "  # Extract RGB and Depth for visualization\n",
        "  rgb_new = rgbd_new[:, :, :3]\n",
        "  depth_new = rgbd_new[:, :, 3]\n",
        "\n",
        "  #Sub-Patch Extraction: Use Masks saved from P1\n",
        "  extracted = cv2.bitwise_and(depth_new, depth_new, mask=masks[i])\n",
        "  extracts.append(extracted)\n",
        "  #Contour Cleanup\n",
        "  #Trimming and Visualization\n",
        "\n",
        "  #Trim Image with Mask Contours to limit Mask effect on PCA\n",
        "\n",
        "  contours, _ = cv2.findContours(masks[i], cv2.RETR_LIST , cv2.CHAIN_APPROX_NONE)\n",
        "\n",
        "  # Grab the largest contour is the ROI (lossy, does not always get all grasp rectangles in cropped image)\n",
        "  c = max(contours, key=cv2.contourArea)\n",
        "\n",
        "  # Get the bounding box coordinates\n",
        "  x, y, w, h = cv2.boundingRect(c)\n",
        "  #Crop Image\n",
        "  crop= extracted[y:y+h, x:x+w]\n",
        "  cropped_images.append(crop)\n",
        "\n",
        "  #PCA Ops\n",
        "  pca = PCA()\n",
        "  pca.fit(cropped_images[i])\n",
        "  # Getting the cumulative variance\n",
        "  var_cumu = np.cumsum(pca.explained_variance_ratio_)*100\n",
        "\n",
        "  # How many PCs explain 99% of the variance?\n",
        "  k = np.argmax(var_cumu>99)\n",
        "\n",
        "  #Perform PCA and generate reconstructed images\n",
        "  ipca = IncrementalPCA(whiten=True, n_components=k) #set value to k (99% variance) so process can be looped\n",
        "  recon = ipca.inverse_transform(ipca.fit_transform(cropped_images[i]))\n",
        "  image_recon.append(recon)\n",
        "\n",
        "  i=i+1"
      ]
    },
    {
      "cell_type": "code",
      "source": [
        "  #P3/P4 Inspect Output Single Image\n",
        "  #THis is for actually cutting the images with the masks\n",
        "  plt.figure(figsize=(12, 6))\n",
        "  plt.imshow(images[97])\n",
        "  plt.figure(figsize=(12, 6))\n",
        "  plt.imshow(masks[97])\n",
        "\n",
        "  plt.figure(figsize=(12, 6))\n",
        "  plt.imshow((extracts[97]), cmap='jet', vmin=0, vmax=0.1)\n",
        "  plt.colorbar()\n",
        "  plt.title(\"Depth Image with Grasping Rectangles\")\n",
        "  plt.figure(figsize=(12, 6))\n",
        "  plt.imshow((cropped_images[97]), cmap='jet', vmin=0, vmax=0.1)\n",
        "  plt.colorbar()\n",
        "  plt.title(\"Cropped Depth Image with Grasping Rectangles\")\n",
        "  #display(Image.fromarray(roi))"
      ],
      "metadata": {
        "collapsed": true,
        "id": "au4EfJH1GrS3"
      },
      "execution_count": null,
      "outputs": []
    },
    {
      "cell_type": "code",
      "source": [
        "#P3/P4 #Data Inspection, used for generating video, LONG RUNTIME ON JS2 (90s)\n",
        "  #print(\"New RGB-D Shape:\", rgbd_new.shape)  # Expected output: (480, 640, 4)\n",
        "\n",
        "  # Extract RGB and Depth for visualization\n",
        "# i=0\n",
        "# for items in RGBDtiff:\n",
        "#   rgbd_new = RGBDtiff[i]\n",
        "#   rgb_new = rgbd_new[:, :, :3]\n",
        "#   depth_new = rgbd_new[:, :, 3]\n",
        "#   plt.figure(figsize=(12, 6))\n",
        "#   plt.imshow(extracts[i])\n",
        "#   plt.figure(figsize=(12, 6))\n",
        "#   plt.figure(figsize=(15, 5))\n",
        "#   plt.subplot(1, 3, 1)\n",
        "#   plt.imshow(cropped_images[i] , cmap='jet', vmin=0, vmax=0.1)\n",
        "#   plt.colorbar()\n",
        "#   plt.title(\"Depth Image\")\n",
        "#   plt.subplot(1, 3, 2)\n",
        "#   plt.imshow((image_recon[i]) ,cmap='jet', vmin=0, vmax=0.1)\n",
        "#   plt.colorbar()\n",
        "#   plt.title(\"Reconstructed Depth Image\")\n",
        "#   i=i+1\n"
      ],
      "metadata": {
        "collapsed": true,
        "id": "cl1J356DOH3h"
      },
      "execution_count": null,
      "outputs": []
    },
    {
      "cell_type": "code",
      "source": [
        "#P5\n",
        "#Point Cloud Visualization"
      ],
      "metadata": {
        "id": "B3uNxXQbEYJ9"
      },
      "execution_count": null,
      "outputs": []
    }
  ],
  "metadata": {
    "colab": {
      "provenance": []
    },
    "kernelspec": {
      "display_name": "Python 3 (ipykernel)",
      "language": "python",
      "name": "python3"
    },
    "language_info": {
      "codemirror_mode": {
        "name": "ipython",
        "version": 3
      },
      "file_extension": ".py",
      "mimetype": "text/x-python",
      "name": "python",
      "nbconvert_exporter": "python",
      "pygments_lexer": "ipython3",
      "version": "3.10.16"
    }
  },
  "nbformat": 4,
  "nbformat_minor": 0
}