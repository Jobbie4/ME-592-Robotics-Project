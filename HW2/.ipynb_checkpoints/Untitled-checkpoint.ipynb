{
 "cells": [
  {
   "cell_type": "code",
   "execution_count": 1,
   "id": "995e99b8-c5dc-4d3f-8167-c67a6bde7268",
   "metadata": {},
   "outputs": [],
   "source": [
    "import cv2\n",
    "import matplotlib.pyplot as plt\n",
    "import numpy as np\n",
    "from imageio import imread\n",
    "from skimage.transform import rotate, resize\n"
   ]
  },
  {
   "cell_type": "code",
   "execution_count": 2,
   "id": "cbeb7d29-d5b4-4d80-802c-6abb60eeadc4",
   "metadata": {},
   "outputs": [],
   "source": [
    "class Image:\n",
    "    \"\"\"\n",
    "    Wrapper around an image with some convenient functions.\n",
    "    \"\"\"\n",
    "\n",
    "    def __init__(self, img):\n",
    "        self.img = img\n",
    "\n",
    "    def __getattr__(self, attr):\n",
    "        # Pass along any other methods to the underlying ndarray\n",
    "        return getattr(self.img, attr)\n",
    "\n",
    "    @classmethod\n",
    "    def from_file(cls, fname):\n",
    "        return cls(imread(fname))\n",
    "\n",
    "    def copy(self):\n",
    "        \"\"\"\n",
    "        :return: Copy of self.\n",
    "        \"\"\"\n",
    "        return self.__class__(self.img.copy())\n",
    "\n",
    "    def crop(self, top_left, bottom_right, resize=None):\n",
    "        \"\"\"\n",
    "        Crop the image to a bounding box given by top left and bottom right pixels.\n",
    "        :param top_left: tuple, top left pixel.\n",
    "        :param bottom_right: tuple, bottom right pixel\n",
    "        :param resize: If specified, resize the cropped image to this size\n",
    "        \"\"\"\n",
    "        self.img = self.img[top_left[0]:bottom_right[0], top_left[1]:bottom_right[1]]\n",
    "        if resize is not None:\n",
    "            self.resize(resize)\n",
    "\n",
    "    def cropped(self, *args, **kwargs):\n",
    "        \"\"\"\n",
    "        :return: Cropped copy of the image.\n",
    "        \"\"\"\n",
    "        i = self.copy()\n",
    "        i.crop(*args, **kwargs)\n",
    "        return i\n",
    "\n",
    "    def normalise(self):\n",
    "        \"\"\"\n",
    "        Normalise the image by converting to float [0,1] and zero-centering\n",
    "        \"\"\"\n",
    "        self.img = self.img.astype(np.float32) / 255.0\n",
    "        self.img -= self.img.mean()\n",
    "\n",
    "    def resize(self, shape):\n",
    "        \"\"\"\n",
    "        Resize image to shape.\n",
    "        :param shape: New shape.\n",
    "        \"\"\"\n",
    "        if self.img.shape == shape:\n",
    "            return\n",
    "        self.img = resize(self.img, shape, preserve_range=True).astype(self.img.dtype)\n",
    "\n",
    "    def resized(self, *args, **kwargs):\n",
    "        \"\"\"\n",
    "        :return: Resized copy of the image.\n",
    "        \"\"\"\n",
    "        i = self.copy()\n",
    "        i.resize(*args, **kwargs)\n",
    "        return i\n",
    "\n",
    "    def rotate(self, angle, center=None):\n",
    "        \"\"\"\n",
    "        Rotate the image.\n",
    "        :param angle: Angle (in radians) to rotate by.\n",
    "        :param center: Center pixel to rotate if specified, otherwise image center is used.\n",
    "        \"\"\"\n",
    "        if center is not None:\n",
    "            center = (center[1], center[0])\n",
    "        self.img = rotate(self.img, angle / np.pi * 180, center=center, mode='symmetric', preserve_range=True).astype(\n",
    "            self.img.dtype)\n",
    "\n",
    "    def rotated(self, *args, **kwargs):\n",
    "        \"\"\"\n",
    "        :return: Rotated copy of image.\n",
    "        \"\"\"\n",
    "        i = self.copy()\n",
    "        i.rotate(*args, **kwargs)\n",
    "        return i\n",
    "\n",
    "    def show(self, ax=None, **kwargs):\n",
    "        \"\"\"\n",
    "        Plot the image\n",
    "        :param ax: Existing matplotlib axis (optional)\n",
    "        :param kwargs: kwargs to imshow\n",
    "        \"\"\"\n",
    "        if ax:\n",
    "            ax.imshow(self.img, **kwargs)\n",
    "        else:\n",
    "            plt.imshow(self.img, **kwargs)\n",
    "            plt.show()\n",
    "\n",
    "    def zoom(self, factor):\n",
    "        \"\"\"\n",
    "        \"Zoom\" the image by cropping and resizing.\n",
    "        :param factor: Factor to zoom by. e.g. 0.5 will keep the center 50% of the image.\n",
    "        \"\"\"\n",
    "        sr = int(self.img.shape[0] * (1 - factor)) // 2\n",
    "        sc = int(self.img.shape[1] * (1 - factor)) // 2\n",
    "        orig_shape = self.img.shape\n",
    "        self.img = self.img[sr:self.img.shape[0] - sr, sc: self.img.shape[1] - sc].copy()\n",
    "        self.img = resize(self.img, orig_shape, mode='symmetric', preserve_range=True).astype(self.img.dtype)\n",
    "\n",
    "    def zoomed(self, *args, **kwargs):\n",
    "        \"\"\"\n",
    "        :return: Zoomed copy of the image.\n",
    "        \"\"\"\n",
    "        i = self.copy()\n",
    "        i.zoom(*args, **kwargs)\n",
    "        return i\n"
   ]
  },
  {
   "cell_type": "code",
   "execution_count": 3,
   "id": "8a8dc61e-5201-4f4c-b9a4-163c5231ea7c",
   "metadata": {},
   "outputs": [],
   "source": [
    "class DepthImage(Image):\n",
    "    def __init__(self, img):\n",
    "        super().__init__(img)\n",
    "\n",
    "    @classmethod\n",
    "    def from_pcd(cls, pcd_filename, shape, default_filler=0, index=None):\n",
    "        \"\"\"\n",
    "            Create a depth image from an unstructured PCD file.\n",
    "            If index isn't specified, use euclidean distance, otherwise choose x/y/z=0/1/2\n",
    "        \"\"\"\n",
    "        img = np.zeros(shape)\n",
    "        if default_filler != 0:\n",
    "            img += default_filler\n",
    "\n",
    "        with open(pcd_filename) as f:\n",
    "            for l in f.readlines():\n",
    "                ls = l.split()\n",
    "\n",
    "                if len(ls) != 5:\n",
    "                    # Not a point line in the file.\n",
    "                    continue\n",
    "                try:\n",
    "                    # Not a number, carry on.\n",
    "                    float(ls[0])\n",
    "                except ValueError:\n",
    "                    continue\n",
    "\n",
    "                i = int(ls[4])\n",
    "                r = i // shape[1]\n",
    "                c = i % shape[1]\n",
    "\n",
    "                if index is None:\n",
    "                    x = float(ls[0])\n",
    "                    y = float(ls[1])\n",
    "                    z = float(ls[2])\n",
    "\n",
    "                    img[r, c] = np.sqrt(x ** 2 + y ** 2 + z ** 2)\n",
    "\n",
    "                else:\n",
    "                    img[r, c] = float(ls[index])\n",
    "\n",
    "        return cls(img / 1000.0)\n",
    "\n",
    "    @classmethod\n",
    "    def from_tiff(cls, fname):\n",
    "        return cls(imread(fname))\n",
    "\n",
    "    def inpaint(self, missing_value=0):\n",
    "        \"\"\"\n",
    "        Inpaint missing values in depth image.\n",
    "        :param missing_value: Value to fill in teh depth image.\n",
    "        \"\"\"\n",
    "        # cv2 inpainting doesn't handle the border properly\n",
    "        # https://stackoverflow.com/questions/25974033/inpainting-depth-map-still-a-black-image-border\n",
    "        self.img = cv2.copyMakeBorder(self.img, 1, 1, 1, 1, cv2.BORDER_DEFAULT)\n",
    "        mask = (self.img == missing_value).astype(np.uint8)\n",
    "\n",
    "        print(self.img.dtype, self.img.shape)\n",
    "        # Scale to keep as float, but has to be in bounds -1:1 to keep opencv happy.\n",
    "        scale = np.abs(self.img).max()\n",
    "        #print(scale.dtype)\n",
    "        #self.img = self.img.astype(np.float32) / scale  # Has to be float32, 64 not supported.\n",
    "        self.img = (self.img.astype(np.float32) / np.float32(scale)).astype(np.float32)\n",
    "        #print(self.img, self.img.dtype, self.img.shape)\n",
    "        self.img = cv2.inpaint(self.img, mask, 1, cv2.INPAINT_NS)\n",
    "\n",
    "        # Back to original size and value range.\n",
    "        self.img = self.img[1:-1, 1:-1]\n",
    "        self.img = self.img * scale\n",
    "\n",
    "    def gradients(self):\n",
    "        \"\"\"\n",
    "        Compute gradients of the depth image using Sobel filtesr.\n",
    "        :return: Gradients in X direction, Gradients in Y diretion, Magnitude of XY gradients.\n",
    "        \"\"\"\n",
    "        grad_x = cv2.Sobel(self.img, cv2.CV_64F, 1, 0, borderType=cv2.BORDER_DEFAULT)\n",
    "        grad_y = cv2.Sobel(self.img, cv2.CV_64F, 0, 1, borderType=cv2.BORDER_DEFAULT)\n",
    "        grad = np.sqrt(grad_x ** 2 + grad_y ** 2)\n",
    "\n",
    "        return DepthImage(grad_x), DepthImage(grad_y), DepthImage(grad)\n",
    "\n",
    "    def normalise(self):\n",
    "        \"\"\"\n",
    "        Normalise by subtracting the mean and clippint [-1, 1]\n",
    "        \"\"\"\n",
    "        self.img = np.clip((self.img - self.img.mean()), -1, 1)\n",
    "\n"
   ]
  },
  {
   "cell_type": "code",
   "execution_count": 4,
   "id": "dde4db5a-45d6-4288-aeca-dda33ba6fbc2",
   "metadata": {},
   "outputs": [],
   "source": [
    "import argparse\n",
    "import glob\n",
    "import os\n",
    "\n",
    "import numpy as np\n",
    "from imageio import imsave"
   ]
  },
  {
   "cell_type": "code",
   "execution_count": 5,
   "id": "efb2992d-86da-411d-bd71-f2a481fc40e6",
   "metadata": {},
   "outputs": [
    {
     "name": "stdout",
     "output_type": "stream",
     "text": [
      "['./data/01/pcd0100.txt', './data/01/pcd0101.txt', './data/01/pcd0102.txt', './data/01/pcd0103.txt', './data/01/pcd0104.txt', './data/01/pcd0105.txt', './data/01/pcd0106.txt', './data/01/pcd0107.txt', './data/01/pcd0108.txt', './data/01/pcd0109.txt', './data/01/pcd0110.txt', './data/01/pcd0111.txt', './data/01/pcd0112.txt', './data/01/pcd0113.txt', './data/01/pcd0114.txt', './data/01/pcd0115.txt', './data/01/pcd0116.txt', './data/01/pcd0117.txt', './data/01/pcd0118.txt', './data/01/pcd0119.txt', './data/01/pcd0120.txt', './data/01/pcd0121.txt', './data/01/pcd0122.txt', './data/01/pcd0123.txt', './data/01/pcd0124.txt', './data/01/pcd0125.txt', './data/01/pcd0126.txt', './data/01/pcd0127.txt', './data/01/pcd0128.txt', './data/01/pcd0129.txt', './data/01/pcd0130.txt', './data/01/pcd0131.txt', './data/01/pcd0132.txt', './data/01/pcd0133.txt', './data/01/pcd0134.txt', './data/01/pcd0135.txt', './data/01/pcd0136.txt', './data/01/pcd0137.txt', './data/01/pcd0138.txt', './data/01/pcd0139.txt', './data/01/pcd0140.txt', './data/01/pcd0141.txt', './data/01/pcd0142.txt', './data/01/pcd0143.txt', './data/01/pcd0144.txt', './data/01/pcd0145.txt', './data/01/pcd0146.txt', './data/01/pcd0147.txt', './data/01/pcd0148.txt', './data/01/pcd0149.txt', './data/01/pcd0150.txt', './data/01/pcd0151.txt', './data/01/pcd0152.txt', './data/01/pcd0153.txt', './data/01/pcd0154.txt', './data/01/pcd0155.txt', './data/01/pcd0156.txt', './data/01/pcd0157.txt', './data/01/pcd0158.txt', './data/01/pcd0159.txt', './data/01/pcd0160.txt', './data/01/pcd0161.txt', './data/01/pcd0162.txt', './data/01/pcd0163.txt', './data/01/pcd0164.txt', './data/01/pcd0165.txt', './data/01/pcd0166.txt', './data/01/pcd0167.txt', './data/01/pcd0168.txt', './data/01/pcd0169.txt', './data/01/pcd0170.txt', './data/01/pcd0171.txt', './data/01/pcd0172.txt', './data/01/pcd0173.txt', './data/01/pcd0174.txt', './data/01/pcd0175.txt', './data/01/pcd0176.txt', './data/01/pcd0177.txt', './data/01/pcd0178.txt', './data/01/pcd0179.txt', './data/01/pcd0180.txt', './data/01/pcd0181.txt', './data/01/pcd0182.txt', './data/01/pcd0183.txt', './data/01/pcd0184.txt', './data/01/pcd0185.txt', './data/01/pcd0186.txt', './data/01/pcd0187.txt', './data/01/pcd0188.txt', './data/01/pcd0189.txt', './data/01/pcd0190.txt', './data/01/pcd0191.txt', './data/01/pcd0192.txt', './data/01/pcd0193.txt', './data/01/pcd0194.txt', './data/01/pcd0195.txt', './data/01/pcd0196.txt', './data/01/pcd0197.txt', './data/01/pcd0198.txt', './data/01/pcd0199.txt']\n"
     ]
    }
   ],
   "source": [
    "path = './data/01/'\n",
    "pcds = glob.glob(os.path.join(path, 'pcd[0-9][0-9][0-9][0-9].txt'))  # Matches 'pcdXXXX.txt'\n",
    "pcds.sort()\n",
    "print(pcds)  # Check if the sorting is correct"
   ]
  },
  {
   "cell_type": "code",
   "execution_count": 6,
   "id": "3b6ce2d9-201d-415f-98a6-4f68dd2c8824",
   "metadata": {},
   "outputs": [
    {
     "name": "stdout",
     "output_type": "stream",
     "text": [
      "float64 (482, 642)\n"
     ]
    }
   ],
   "source": [
    "pcd = pcds[1]\n",
    "\n",
    "di = DepthImage.from_pcd(pcd, (480, 640))\n",
    "di.inpaint()"
   ]
  },
  {
   "cell_type": "code",
   "execution_count": 7,
   "id": "1ab38499-3f3c-4ed9-ba46-1e0b07b4d094",
   "metadata": {},
   "outputs": [
    {
     "data": {
      "text/plain": [
       "\"\\nif __name__ == '__main__':\\n    path = './data/01/'\\n    pcds = glob.glob(os.path.join(path, 'pcd[0-9][0-9][0-9][0-9].txt'))  # Matches 'pcdXXXX.txt'\\n    pcds.sort()\\n    #print(pcds)  # Check if the sorting is correct\\n    for pcd in pcds:\\n        di = DepthImage.from_pcd(pcd, (480, 640))\\n        di.inpaint()\\n\\n        of_name = pcd.replace('.txt', 'd.tiff')\\n        #print(of_name)\\n        imsave(of_name, di.img.astype(np.float32))\\n        \""
      ]
     },
     "execution_count": 7,
     "metadata": {},
     "output_type": "execute_result"
    }
   ],
   "source": [
    "\n",
    "\"\"\"\n",
    "if __name__ == '__main__':\n",
    "    path = './data/01/'\n",
    "    pcds = glob.glob(os.path.join(path, 'pcd[0-9][0-9][0-9][0-9].txt'))  # Matches 'pcdXXXX.txt'\n",
    "    pcds.sort()\n",
    "    #print(pcds)  # Check if the sorting is correct\n",
    "    for pcd in pcds:\n",
    "        di = DepthImage.from_pcd(pcd, (480, 640))\n",
    "        di.inpaint()\n",
    "\n",
    "        of_name = pcd.replace('.txt', 'd.tiff')\n",
    "        #print(of_name)\n",
    "        imsave(of_name, di.img.astype(np.float32))\n",
    "        \"\"\""
   ]
  },
  {
   "cell_type": "code",
   "execution_count": 25,
   "id": "6e4f9752-9870-4caa-a1be-ea7fa24160a8",
   "metadata": {},
   "outputs": [
    {
     "name": "stdout",
     "output_type": "stream",
     "text": [
      "File exists!\n"
     ]
    }
   ],
   "source": [
    "file_path = \"./data/01/pcd0120d.tiff\"\n",
    "if os.path.exists(file_path):\n",
    "    print(\"File exists!\")\n",
    "else:\n",
    "    print(\"File not found.\")"
   ]
  },
  {
   "cell_type": "code",
   "execution_count": 26,
   "id": "de6ebe59-645b-4b7f-82f6-78b7cd07b8ec",
   "metadata": {},
   "outputs": [
    {
     "name": "stdout",
     "output_type": "stream",
     "text": [
      "<tifffile.TiffPages @8>\n",
      "Image shape: (480, 640)\n",
      "Data type: float32\n",
      "Compression: COMPRESSION.NONE\n"
     ]
    }
   ],
   "source": [
    "import tifffile\n",
    "\n",
    "#file_path = \"your_file.tiff\"\n",
    "\n",
    "try:\n",
    "    with tifffile.TiffFile(file_path) as tif:\n",
    "        print(tif.pages)  # Number of pages\n",
    "        print(\"Image shape:\", tif.pages[0].shape)  # Shape of first page\n",
    "        print(\"Data type:\", tif.pages[0].dtype)  # Data type\n",
    "        print(\"Compression:\", tif.pages[0].compression)  # Compression method\n",
    "except Exception as e:\n",
    "    print(\"Error:\", e)"
   ]
  },
  {
   "cell_type": "code",
   "execution_count": 27,
   "id": "150a2cb4-a97a-49f9-8a34-da5ee1894313",
   "metadata": {},
   "outputs": [
    {
     "name": "stdout",
     "output_type": "stream",
     "text": [
      "Error: 'NoneType' object has no attribute 'read'\n"
     ]
    }
   ],
   "source": [
    "from PIL import Image\n",
    "\n",
    "#file_path = \"your_file.tiff\"\n",
    "\n",
    "try:\n",
    "    image = Image.open(file_path)\n",
    "    image.verify()  # This checks if the file is corrupt\n",
    "    image.show()\n",
    "    print(\"TIFF file is valid!\")\n",
    "except Exception as e:\n",
    "    print(\"Error:\", e)"
   ]
  },
  {
   "cell_type": "code",
   "execution_count": 31,
   "id": "1412fe3e-d4c2-43b6-b4c9-c2aa5478cf8e",
   "metadata": {},
   "outputs": [
    {
     "data": {
      "text/plain": [
       "640"
      ]
     },
     "execution_count": 31,
     "metadata": {},
     "output_type": "execute_result"
    }
   ],
   "source": [
    "image.shape[-1]"
   ]
  },
  {
   "cell_type": "code",
   "execution_count": 29,
   "id": "e90a57df-357b-4639-b83e-56560a1bd397",
   "metadata": {},
   "outputs": [
    {
     "name": "stdout",
     "output_type": "stream",
     "text": [
      "❌ Not an RGB-D image. Shape: (480, 640)\n"
     ]
    }
   ],
   "source": [
    "import matplotlib.pyplot as plt\n",
    "\n",
    "# Ensure it's a 4-channel image\n",
    "if image.shape[-1] == 4:\n",
    "    rgb = image[:, :, :3]  # Extract RGB channels\n",
    "    depth = image[:, :, 3]  # Extract Depth channel\n",
    "\n",
    "    # Display RGB\n",
    "    plt.subplot(1, 2, 1)\n",
    "    plt.imshow(rgb)  # Matplotlib auto-handles RGB\n",
    "    plt.axis(\"off\")\n",
    "    plt.title(\"RGB\")\n",
    "\n",
    "    # Display Depth\n",
    "    plt.subplot(1, 2, 2)\n",
    "    plt.imshow(depth, cmap=\"gray\")  # Use 'gray' for depth visualization\n",
    "    plt.axis(\"off\")\n",
    "    plt.title(\"Depth\")\n",
    "\n",
    "    plt.show()\n",
    "else:\n",
    "    print(\"❌ Not an RGB-D image. Shape:\", image.shape)\n"
   ]
  },
  {
   "cell_type": "code",
   "execution_count": 32,
   "id": "084f334a-0623-4103-b527-408f9e89045b",
   "metadata": {},
   "outputs": [
    {
     "data": {
      "image/png": "[encoded data removed]",
      "text/plain": [
       "<Figure size 640x480 with 2 Axes>"
      ]
     },
     "metadata": {},
     "output_type": "display_data"
    }
   ],
   "source": [
    "import matplotlib.pyplot as plt\n",
    "import imageio.v2 as imageio\n",
    "\n",
    "depth_img = imageio.imread(\"./data/01/pcd0120d.tiff\")\n",
    "plt.imshow(depth_img, cmap='gray')\n",
    "plt.colorbar()\n",
    "plt.show()"
   ]
  }
 ],
 "metadata": {
  "kernelspec": {
   "display_name": "me592",
   "language": "python",
   "name": "me592"
  },
  "language_info": {
   "codemirror_mode": {
    "name": "ipython",
    "version": 3
   },
   "file_extension": ".py",
   "mimetype": "text/x-python",
   "name": "python",
   "nbconvert_exporter": "python",
   "pygments_lexer": "ipython3",
   "version": "3.10.16"
  }
 },
 "nbformat": 4,
 "nbformat_minor": 5
}
